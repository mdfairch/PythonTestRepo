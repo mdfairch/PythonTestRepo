{
 "cells": [
  {
   "cell_type": "code",
   "execution_count": 2,
   "id": "226a53be",
   "metadata": {},
   "outputs": [
    {
     "name": "stdout",
     "output_type": "stream",
     "text": [
      "Note: you may need to restart the kernel to use updated packages.\n"
     ]
    }
   ],
   "source": [
    "pip -q install folium"
   ]
  },
  {
   "cell_type": "code",
   "execution_count": 41,
   "id": "48baff2f",
   "metadata": {},
   "outputs": [
    {
     "data": {
      "text/html": [
       "<div style=\"width:100%;\"><div style=\"position:relative;width:100%;height:0;padding-bottom:60%;\"><span style=\"color:#565656\">Make this Notebook Trusted to load map: File -> Trust Notebook</span><iframe srcdoc=\"&lt;!DOCTYPE html&gt;\n",
       "&lt;html&gt;\n",
       "&lt;head&gt;\n",
       "    \n",
       "    &lt;meta http-equiv=&quot;content-type&quot; content=&quot;text/html; charset=UTF-8&quot; /&gt;\n",
       "    \n",
       "        &lt;script&gt;\n",
       "            L_NO_TOUCH = false;\n",
       "            L_DISABLE_3D = false;\n",
       "        &lt;/script&gt;\n",
       "    \n",
       "    &lt;style&gt;html, body {width: 100%;height: 100%;margin: 0;padding: 0;}&lt;/style&gt;\n",
       "    &lt;style&gt;#map {position:absolute;top:0;bottom:0;right:0;left:0;}&lt;/style&gt;\n",
       "    &lt;script src=&quot;https://cdn.jsdelivr.net/npm/leaflet@1.9.3/dist/leaflet.js&quot;&gt;&lt;/script&gt;\n",
       "    &lt;script src=&quot;https://code.jquery.com/jquery-1.12.4.min.js&quot;&gt;&lt;/script&gt;\n",
       "    &lt;script src=&quot;https://cdn.jsdelivr.net/npm/bootstrap@5.2.2/dist/js/bootstrap.bundle.min.js&quot;&gt;&lt;/script&gt;\n",
       "    &lt;script src=&quot;https://cdnjs.cloudflare.com/ajax/libs/Leaflet.awesome-markers/2.0.2/leaflet.awesome-markers.js&quot;&gt;&lt;/script&gt;\n",
       "    &lt;link rel=&quot;stylesheet&quot; href=&quot;https://cdn.jsdelivr.net/npm/leaflet@1.9.3/dist/leaflet.css&quot;/&gt;\n",
       "    &lt;link rel=&quot;stylesheet&quot; href=&quot;https://cdn.jsdelivr.net/npm/bootstrap@5.2.2/dist/css/bootstrap.min.css&quot;/&gt;\n",
       "    &lt;link rel=&quot;stylesheet&quot; href=&quot;https://netdna.bootstrapcdn.com/bootstrap/3.0.0/css/bootstrap.min.css&quot;/&gt;\n",
       "    &lt;link rel=&quot;stylesheet&quot; href=&quot;https://cdn.jsdelivr.net/npm/@fortawesome/fontawesome-free@6.2.0/css/all.min.css&quot;/&gt;\n",
       "    &lt;link rel=&quot;stylesheet&quot; href=&quot;https://cdnjs.cloudflare.com/ajax/libs/Leaflet.awesome-markers/2.0.2/leaflet.awesome-markers.css&quot;/&gt;\n",
       "    &lt;link rel=&quot;stylesheet&quot; href=&quot;https://cdn.jsdelivr.net/gh/python-visualization/folium/folium/templates/leaflet.awesome.rotate.min.css&quot;/&gt;\n",
       "    \n",
       "            &lt;meta name=&quot;viewport&quot; content=&quot;width=device-width,\n",
       "                initial-scale=1.0, maximum-scale=1.0, user-scalable=no&quot; /&gt;\n",
       "            &lt;style&gt;\n",
       "                #map_ddb6b3723d59cf63be9a68c7c25cdfcd {\n",
       "                    position: relative;\n",
       "                    width: 100.0%;\n",
       "                    height: 100.0%;\n",
       "                    left: 0.0%;\n",
       "                    top: 0.0%;\n",
       "                }\n",
       "                .leaflet-container { font-size: 1rem; }\n",
       "            &lt;/style&gt;\n",
       "        \n",
       "&lt;/head&gt;\n",
       "&lt;body&gt;\n",
       "    \n",
       "    \n",
       "            &lt;div class=&quot;folium-map&quot; id=&quot;map_ddb6b3723d59cf63be9a68c7c25cdfcd&quot; &gt;&lt;/div&gt;\n",
       "        \n",
       "&lt;/body&gt;\n",
       "&lt;script&gt;\n",
       "    \n",
       "    \n",
       "            var map_ddb6b3723d59cf63be9a68c7c25cdfcd = L.map(\n",
       "                &quot;map_ddb6b3723d59cf63be9a68c7c25cdfcd&quot;,\n",
       "                {\n",
       "                    center: [30.974033000000002, -91.430082],\n",
       "                    crs: L.CRS.EPSG3857,\n",
       "                    maxBounds: [[26.0, -94], [33.5, -88.5]],\n",
       "                    zoom: 1,\n",
       "                    zoomControl: true,\n",
       "                    preferCanvas: false,\n",
       "                }\n",
       "            );\n",
       "\n",
       "            \n",
       "\n",
       "        \n",
       "    \n",
       "            var tile_layer_98266b629e176aa3954c718f94c7a15c = L.tileLayer(\n",
       "                &quot;https://stamen-tiles-{s}.a.ssl.fastly.net/watercolor/{z}/{x}/{y}.jpg&quot;,\n",
       "                {&quot;attribution&quot;: &quot;Map tiles by \\u003ca target=\\&quot;_blank\\&quot; href=\\&quot;http://stamen.com\\&quot;\\u003eStamen Design\\u003c/a\\u003e, under \\u003ca target=\\&quot;_blank\\&quot; href=\\&quot;http://creativecommons.org/licenses/by/3.0\\&quot;\\u003eCC BY 3.0\\u003c/a\\u003e. Data by \\u0026copy; \\u003ca target=\\&quot;_blank\\&quot; href=\\&quot;http://openstreetmap.org\\&quot;\\u003eOpenStreetMap\\u003c/a\\u003e, under \\u003ca target=\\&quot;_blank\\&quot; href=\\&quot;http://creativecommons.org/licenses/by-sa/3.0\\&quot;\\u003eCC BY SA\\u003c/a\\u003e.&quot;, &quot;detectRetina&quot;: false, &quot;maxNativeZoom&quot;: 20, &quot;maxZoom&quot;: 20, &quot;minZoom&quot;: 8, &quot;noWrap&quot;: false, &quot;opacity&quot;: 1, &quot;subdomains&quot;: &quot;abc&quot;, &quot;tms&quot;: false}\n",
       "            ).addTo(map_ddb6b3723d59cf63be9a68c7c25cdfcd);\n",
       "        \n",
       "    \n",
       "            var feature_group_cb1763ddf8e7fc278f4c00817afbddb4 = L.featureGroup(\n",
       "                {}\n",
       "            ).addTo(map_ddb6b3723d59cf63be9a68c7c25cdfcd);\n",
       "        \n",
       "    \n",
       "            var circle_marker_fbe6cc72b477e08cfda15529f7400140 = L.circleMarker(\n",
       "                [29.0, -91.0],\n",
       "                {&quot;bubblingMouseEvents&quot;: true, &quot;color&quot;: &quot;red&quot;, &quot;dashArray&quot;: null, &quot;dashOffset&quot;: null, &quot;fill&quot;: true, &quot;fillColor&quot;: &quot;black&quot;, &quot;fillOpacity&quot;: 0.2, &quot;fillRule&quot;: &quot;evenodd&quot;, &quot;lineCap&quot;: &quot;round&quot;, &quot;lineJoin&quot;: &quot;round&quot;, &quot;opacity&quot;: 1.0, &quot;radius&quot;: 5, &quot;stroke&quot;: true, &quot;weight&quot;: 3}\n",
       "            ).addTo(feature_group_cb1763ddf8e7fc278f4c00817afbddb4);\n",
       "        \n",
       "    \n",
       "            var marker_7e3b366a1145487a05e46f10b115ab24 = L.marker(\n",
       "                [30.0, -90.0],\n",
       "                {}\n",
       "            ).addTo(feature_group_cb1763ddf8e7fc278f4c00817afbddb4);\n",
       "        \n",
       "    \n",
       "        var popup_fe957669b894c95235989703dff55f1d = L.popup({&quot;maxWidth&quot;: &quot;100%&quot;});\n",
       "\n",
       "        \n",
       "            \n",
       "                var html_1f06e9ca9a1987e096ce673f1e191974 = $(`&lt;div id=&quot;html_1f06e9ca9a1987e096ce673f1e191974&quot; style=&quot;width: 100.0%; height: 100.0%;&quot;&gt;Abishai Gang&lt;/div&gt;`)[0];\n",
       "                popup_fe957669b894c95235989703dff55f1d.setContent(html_1f06e9ca9a1987e096ce673f1e191974);\n",
       "            \n",
       "        \n",
       "\n",
       "        marker_7e3b366a1145487a05e46f10b115ab24.bindPopup(popup_fe957669b894c95235989703dff55f1d)\n",
       "        ;\n",
       "\n",
       "        \n",
       "    \n",
       "&lt;/script&gt;\n",
       "&lt;/html&gt;\" style=\"position:absolute;width:100%;height:100%;left:0;top:0;border:none !important;\" allowfullscreen webkitallowfullscreen mozallowfullscreen></iframe></div></div>"
      ],
      "text/plain": [
       "<folium.folium.Map at 0x2430d059ad0>"
      ]
     },
     "execution_count": 41,
     "metadata": {},
     "output_type": "execute_result"
    }
   ],
   "source": [
    "import folium\n",
    "\n",
    "bound0 = [28.928609, -94.043147]\n",
    "bound1 = [33.019457, -88.817017]\n",
    "center = [(bound0[0] + bound1[0])/2, (bound0[1] + bound1[1])/2]\n",
    "\n",
    "canada_map = folium.Map(center, \n",
    "                        zoom_start=1, \n",
    "                        min_zoom=8, max_zoom=20, \n",
    "                        max_bounds=True,\n",
    "                        min_lat=26.0, max_lat=33.5,\n",
    "                        min_lon=-94, max_lon=-88.5,                        \n",
    "                        #tiles='StamenTerrain')\n",
    "                        tiles='StamenWatercolor')\n",
    "\n",
    "combat_zone = folium.map.FeatureGroup()\n",
    "combat_zone.add_child(folium.features.CircleMarker((29, -91), radius=5, color='red', fill_color='black'))\n",
    "canada_map.add_child(combat_zone)\n",
    "folium.Marker((30,-90), popup='Abishai Gang').add_to(combat_zone)\n",
    "\n",
    "\n",
    "\n",
    "canada_map"
   ]
  },
  {
   "cell_type": "code",
   "execution_count": 28,
   "id": "088afa08",
   "metadata": {},
   "outputs": [],
   "source": [
    "canada_map.fit_bounds([bound0, bound1])\n"
   ]
  },
  {
   "cell_type": "code",
   "execution_count": null,
   "id": "06576765",
   "metadata": {},
   "outputs": [],
   "source": []
  }
 ],
 "metadata": {
  "kernelspec": {
   "display_name": "Python 3 (ipykernel)",
   "language": "python",
   "name": "python3"
  },
  "language_info": {
   "codemirror_mode": {
    "name": "ipython",
    "version": 3
   },
   "file_extension": ".py",
   "mimetype": "text/x-python",
   "name": "python",
   "nbconvert_exporter": "python",
   "pygments_lexer": "ipython3",
   "version": "3.11.1"
  }
 },
 "nbformat": 4,
 "nbformat_minor": 5
}
