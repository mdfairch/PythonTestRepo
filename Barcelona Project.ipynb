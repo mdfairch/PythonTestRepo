{
 "cells": [
  {
   "cell_type": "markdown",
   "id": "981001f5",
   "metadata": {},
   "source": [
    "<h1>Data Processing Demo</h1>\n",
    "\n",
    "<ol>\n",
    "    <li>Download csv files from Kaggle.</li>\n",
    "    <li>Load the data into a pandas dataframe.</li>\n",
    "    <li>Analyze the data using scipy.</li>\n",
    "    <li>Display the data using matplotlib and seaborn.</li>\n",
    "</ol>\n"
   ]
  },
  {
   "cell_type": "code",
   "execution_count": 3,
   "id": "1c98ed36",
   "metadata": {},
   "outputs": [],
   "source": [
    "import pandas as pd\n",
    "import scipy\n",
    "import matplotlib.pyplot as plt\n",
    "import requests\n",
    "import sklearn as sk\n",
    "import seaborn"
   ]
  },
  {
   "cell_type": "code",
   "execution_count": 4,
   "id": "fb1c5cb9",
   "metadata": {},
   "outputs": [],
   "source": [
    "#api_url = \"https://www.kaggle.com/api/v1/competitions/list\"\n",
    "barcelona_rent = pd.read_csv('KaggleData/Barcelona_rent_price.csv')\n",
    "barcelona_immigration = pd.read_csv('KaggleData/Immigration.csv')\n",
    "barcelona_population = pd.read_csv('KaggleData/population.csv')\n",
    "barcelona_unemployment = pd.read_csv('KaggleData/unemployment.csv')\n",
    "barcelona_deaths = pd.read_csv('KaggleData/deaths.csv')\n",
    "barcelona_births = pd.read_csv('KaggleData/births.csv')"
   ]
  },
  {
   "cell_type": "markdown",
   "id": "d8e3bc4b",
   "metadata": {},
   "source": [
    "<h3>Barcelona Rent Dataset</h3>"
   ]
  },
  {
   "cell_type": "code",
   "execution_count": 19,
   "id": "0afeab71",
   "metadata": {},
   "outputs": [
    {
     "name": "stdout",
     "output_type": "stream",
     "text": [
      "Rent dataset:  (70080, 8)\n"
     ]
    },
    {
     "data": {
      "text/html": [
       "<div>\n",
       "<style scoped>\n",
       "    .dataframe tbody tr th:only-of-type {\n",
       "        vertical-align: middle;\n",
       "    }\n",
       "\n",
       "    .dataframe tbody tr th {\n",
       "        vertical-align: top;\n",
       "    }\n",
       "\n",
       "    .dataframe thead th {\n",
       "        text-align: right;\n",
       "    }\n",
       "</style>\n",
       "<table border=\"1\" class=\"dataframe\">\n",
       "  <thead>\n",
       "    <tr style=\"text-align: right;\">\n",
       "      <th></th>\n",
       "      <th>Year</th>\n",
       "      <th>District.Code</th>\n",
       "      <th>District.Name</th>\n",
       "      <th>Neighborhood.Code</th>\n",
       "      <th>Neighborhood.Name</th>\n",
       "      <th>Gender</th>\n",
       "      <th>Age</th>\n",
       "      <th>Number</th>\n",
       "    </tr>\n",
       "  </thead>\n",
       "  <tbody>\n",
       "    <tr>\n",
       "      <th>0</th>\n",
       "      <td>2017</td>\n",
       "      <td>1</td>\n",
       "      <td>Ciutat Vella</td>\n",
       "      <td>1</td>\n",
       "      <td>el Raval</td>\n",
       "      <td>Male</td>\n",
       "      <td>0-4</td>\n",
       "      <td>224</td>\n",
       "    </tr>\n",
       "    <tr>\n",
       "      <th>1</th>\n",
       "      <td>2017</td>\n",
       "      <td>1</td>\n",
       "      <td>Ciutat Vella</td>\n",
       "      <td>2</td>\n",
       "      <td>el Barri Gòtic</td>\n",
       "      <td>Male</td>\n",
       "      <td>0-4</td>\n",
       "      <td>50</td>\n",
       "    </tr>\n",
       "    <tr>\n",
       "      <th>2</th>\n",
       "      <td>2017</td>\n",
       "      <td>1</td>\n",
       "      <td>Ciutat Vella</td>\n",
       "      <td>3</td>\n",
       "      <td>la Barceloneta</td>\n",
       "      <td>Male</td>\n",
       "      <td>0-4</td>\n",
       "      <td>43</td>\n",
       "    </tr>\n",
       "    <tr>\n",
       "      <th>3</th>\n",
       "      <td>2017</td>\n",
       "      <td>1</td>\n",
       "      <td>Ciutat Vella</td>\n",
       "      <td>4</td>\n",
       "      <td>Sant Pere, Santa Caterina i la Ribera</td>\n",
       "      <td>Male</td>\n",
       "      <td>0-4</td>\n",
       "      <td>95</td>\n",
       "    </tr>\n",
       "    <tr>\n",
       "      <th>4</th>\n",
       "      <td>2017</td>\n",
       "      <td>2</td>\n",
       "      <td>Eixample</td>\n",
       "      <td>5</td>\n",
       "      <td>el Fort Pienc</td>\n",
       "      <td>Male</td>\n",
       "      <td>0-4</td>\n",
       "      <td>124</td>\n",
       "    </tr>\n",
       "  </tbody>\n",
       "</table>\n",
       "</div>"
      ],
      "text/plain": [
       "   Year  District.Code District.Name  Neighborhood.Code  \\\n",
       "0  2017              1  Ciutat Vella                  1   \n",
       "1  2017              1  Ciutat Vella                  2   \n",
       "2  2017              1  Ciutat Vella                  3   \n",
       "3  2017              1  Ciutat Vella                  4   \n",
       "4  2017              2      Eixample                  5   \n",
       "\n",
       "                       Neighborhood.Name Gender  Age  Number  \n",
       "0                               el Raval   Male  0-4     224  \n",
       "1                         el Barri Gòtic   Male  0-4      50  \n",
       "2                         la Barceloneta   Male  0-4      43  \n",
       "3  Sant Pere, Santa Caterina i la Ribera   Male  0-4      95  \n",
       "4                          el Fort Pienc   Male  0-4     124  "
      ]
     },
     "execution_count": 19,
     "metadata": {},
     "output_type": "execute_result"
    }
   ],
   "source": [
    "print(\"Rent dataset: \", barcelona_population.shape)\n",
    "barcelona_population.head()"
   ]
  },
  {
   "cell_type": "code",
   "execution_count": 42,
   "id": "395facbc",
   "metadata": {},
   "outputs": [
    {
     "name": "stdout",
     "output_type": "stream",
     "text": [
      "                                       Neighborhood.Name\n",
      "Neighborhood.Code                                       \n",
      "1                                               el Raval\n",
      "2                                         el Barri Gòtic\n",
      "3                                         la Barceloneta\n",
      "4                  Sant Pere, Santa Caterina i la Ribera\n",
      "5                                          el Fort Pienc\n",
      "                         Year  Trimester       Price\n",
      "Neighbourhood                                       \n",
      "Baro de Viver     2017.100000   2.300000  193.152000\n",
      "Can Baro          2017.764706   2.441176  349.552206\n",
      "Can Peguera       2015.000000   2.400000  143.020000\n",
      "Canyelles         2017.781250   2.500000  344.883906\n",
      "Ciutat Meridiana  2017.764706   2.441176  239.669265\n",
      "                      Year  District.Code  Number\n",
      "Neighborhood.Code                                \n",
      "1                  1934400            960  238168\n",
      "2                  1934400            960   79161\n",
      "3                  1934400            960   75656\n",
      "4                  1934400            960  112611\n",
      "5                  1934400           1920  158444\n",
      "                     Year  District Code  Number\n",
      "Neighborhood Code                               \n",
      "1                  386952            192  268712\n",
      "2                  386952            192   73196\n",
      "3                  386952            192   84506\n",
      "4                  386952            192  116970\n",
      "5                  386952            384  109546\n",
      "                    Year  District Code  Number\n",
      "Neighborhood Code                              \n",
      "1                  20150             10    2235\n",
      "2                  20150             10     498\n",
      "3                  20150             10     486\n",
      "4                  20150             10     854\n",
      "5                  20150             20    1238\n",
      "                     Year  District.Code  Number\n",
      "Neighborhood.Code                               \n",
      "1                  127008             63     974\n",
      "2                  127008             63     385\n",
      "3                  127008             63     545\n",
      "4                  127008             63     531\n",
      "5                  127008            126     974\n"
     ]
    }
   ],
   "source": [
    "rent_by_district = barcelona_rent.groupby('District').mean()\n",
    "rent_by_year = barcelona_rent.groupby('Year').mean()\n",
    "rent_by_neighbourhood = barcelona_rent.groupby('Neighbourhood').mean()\n",
    "\n",
    "immigration_by_neighbourhood = barcelona_immigration.groupby('Neighbourhood').sum()\n",
    "population_by_neighbourhood = barcelona_population.groupby('Neighborhood.Code').sum()\n",
    "unemployment_by_neighbourhood = barcelona_unemployment.groupby('Neighborhood Code').sum()\n",
    "births_by_neighbourhood = barcelona_births.groupby('Neighborhood Code').sum()\n",
    "deaths_by_neighbourhood = barcelona_deaths.groupby('Neighborhood.Code').sum()\n",
    "\n",
    "codes_to_names = barcelona_population[['Neighborhood.Code', 'Neighborhood.Name']].set_index('Neighborhood.Code')\n",
    "print(codes_to_names.head())\n",
    "\n",
    "print(rent_by_neighbourhood.head())\n",
    "print(population_by_neighbourhood.head())\n",
    "print(unemployment_by_neighbourhood.head())\n",
    "print(births_by_neighbourhood.head())\n",
    "print(deaths_by_neighbourhood.head())\n",
    "\n"
   ]
  },
  {
   "cell_type": "code",
   "execution_count": null,
   "id": "83fb8cf1",
   "metadata": {
    "scrolled": true
   },
   "outputs": [],
   "source": []
  }
 ],
 "metadata": {
  "kernelspec": {
   "display_name": "Python 3 (ipykernel)",
   "language": "python",
   "name": "python3"
  },
  "language_info": {
   "codemirror_mode": {
    "name": "ipython",
    "version": 3
   },
   "file_extension": ".py",
   "mimetype": "text/x-python",
   "name": "python",
   "nbconvert_exporter": "python",
   "pygments_lexer": "ipython3",
   "version": "3.9.13"
  },
  "vscode": {
   "interpreter": {
    "hash": "ccecdc02aa416300a64487fe6971a8398ebaf053d2b2768f769ac21dbbf13f86"
   }
  }
 },
 "nbformat": 4,
 "nbformat_minor": 5
}
