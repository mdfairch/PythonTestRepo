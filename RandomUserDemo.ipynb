{
 "cells": [
  {
   "cell_type": "code",
   "execution_count": 26,
   "id": "73e14122",
   "metadata": {},
   "outputs": [],
   "source": [
    "# Install libraries.\n",
    "!pip -q install randomuser\n",
    "!pip -q install pandas\n",
    "!pip -q install matplotlib\n",
    "\n",
    "import pandas\n",
    "import tabulate\n",
    "from randomuser import RandomUser\n",
    "from IPython.display import Image\n",
    "from IPython.core.display import HTML \n",
    "from IPython.display import Markdown, display\n",
    "\n",
    "# Generate some random users.\n",
    "users = RandomUser.generate_users(10, {'nat':'RS'})\n"
   ]
  },
  {
   "cell_type": "code",
   "execution_count": 65,
   "id": "fced6421",
   "metadata": {},
   "outputs": [],
   "source": [
    "# Put the users into a pandas DataFrame.\n",
    "\n",
    "df = pandas.DataFrame({\n",
    "    \"First Name\":[u.get_first_name() for u in users],\n",
    "    \"Last Name\":[u.get_last_name() for u in users],\n",
    "    \"City\":[u.get_city() for u in users],\n",
    "    \"Country\":[u.get_country() for u in users],\n",
    "    \"Phone\":[u.get_cell() for u in users],\n",
    "    \"IMG\":[Markdown('<img src=\"%s\" alt=\"photo of user %s\"/>' % (u.get_picture(), u.get_full_name())) for u in users]\n",
    "})"
   ]
  },
  {
   "cell_type": "code",
   "execution_count": 66,
   "id": "cc3ab5e7",
   "metadata": {},
   "outputs": [
    {
     "name": "stdout",
     "output_type": "stream",
     "text": [
      "  First Name Last Name                   City         Country           Phone  \\\n",
      "0        Zoe   Collins              Liverpool  United Kingdom    0704-846-721   \n",
      "1     Jayden    Miller  Notre Dame de Lourdes          Canada    111-516-0684   \n",
      "2   Cidalino     Pires  São José do Rio Preto          Brazil  (79) 8747-2975   \n",
      "3       Elsa    Savela                 Närpes         Finland   041-914-06-15   \n",
      "4     Birger     Michl   Bad Colberg-Heldburg         Germany    0175-0882872   \n",
      "\n",
      "                                      IMG  \n",
      "0  <IPython.core.display.Markdown object>  \n",
      "1  <IPython.core.display.Markdown object>  \n",
      "2  <IPython.core.display.Markdown object>  \n",
      "3  <IPython.core.display.Markdown object>  \n",
      "4  <IPython.core.display.Markdown object>  \n"
     ]
    }
   ],
   "source": [
    "print(df.head(5))"
   ]
  },
  {
   "cell_type": "code",
   "execution_count": 67,
   "id": "781f2847",
   "metadata": {},
   "outputs": [
    {
     "data": {
      "text/html": [
       "<table>\n",
       "<tbody>\n",
       "<tr><td>Zoe     </td><td>Collins </td><td>Liverpool            </td><td>United Kingdom</td><td>0704-846-721  </td><td>&lt;IPython.core.display.Markdown object&gt;</td></tr>\n",
       "<tr><td>Jayden  </td><td>Miller  </td><td>Notre Dame de Lourdes</td><td>Canada        </td><td>111-516-0684  </td><td>&lt;IPython.core.display.Markdown object&gt;</td></tr>\n",
       "<tr><td>Cidalino</td><td>Pires   </td><td>São José do Rio Preto</td><td>Brazil        </td><td>(79) 8747-2975</td><td>&lt;IPython.core.display.Markdown object&gt;</td></tr>\n",
       "<tr><td>Elsa    </td><td>Savela  </td><td>Närpes               </td><td>Finland       </td><td>041-914-06-15 </td><td>&lt;IPython.core.display.Markdown object&gt;</td></tr>\n",
       "<tr><td>Birger  </td><td>Michl   </td><td>Bad Colberg-Heldburg </td><td>Germany       </td><td>0175-0882872  </td><td>&lt;IPython.core.display.Markdown object&gt;</td></tr>\n",
       "<tr><td>Emily   </td><td>Petersen</td><td>Støvring             </td><td>Denmark       </td><td>14513744      </td><td>&lt;IPython.core.display.Markdown object&gt;</td></tr>\n",
       "<tr><td>Marilou </td><td>White   </td><td>Fountainbleu         </td><td>Canada        </td><td>973-514-4638  </td><td>&lt;IPython.core.display.Markdown object&gt;</td></tr>\n",
       "<tr><td>Soren   </td><td>Olivier </td><td>Courbevoie           </td><td>France        </td><td>06-98-00-54-09</td><td>&lt;IPython.core.display.Markdown object&gt;</td></tr>\n",
       "<tr><td>Poppy   </td><td>Chen    </td><td>Wellington           </td><td>New Zealand   </td><td>(754)-660-5384</td><td>&lt;IPython.core.display.Markdown object&gt;</td></tr>\n",
       "<tr><td>Ethel   </td><td>Powell  </td><td>Redding              </td><td>United States </td><td>(479)-376-6973</td><td>&lt;IPython.core.display.Markdown object&gt;</td></tr>\n",
       "</tbody>\n",
       "</table>"
      ],
      "text/plain": [
       "'<table>\\n<tbody>\\n<tr><td>Zoe     </td><td>Collins </td><td>Liverpool            </td><td>United Kingdom</td><td>0704-846-721  </td><td>&lt;IPython.core.display.Markdown object&gt;</td></tr>\\n<tr><td>Jayden  </td><td>Miller  </td><td>Notre Dame de Lourdes</td><td>Canada        </td><td>111-516-0684  </td><td>&lt;IPython.core.display.Markdown object&gt;</td></tr>\\n<tr><td>Cidalino</td><td>Pires   </td><td>São José do Rio Preto</td><td>Brazil        </td><td>(79) 8747-2975</td><td>&lt;IPython.core.display.Markdown object&gt;</td></tr>\\n<tr><td>Elsa    </td><td>Savela  </td><td>Närpes               </td><td>Finland       </td><td>041-914-06-15 </td><td>&lt;IPython.core.display.Markdown object&gt;</td></tr>\\n<tr><td>Birger  </td><td>Michl   </td><td>Bad Colberg-Heldburg </td><td>Germany       </td><td>0175-0882872  </td><td>&lt;IPython.core.display.Markdown object&gt;</td></tr>\\n<tr><td>Emily   </td><td>Petersen</td><td>Støvring             </td><td>Denmark       </td><td>14513744      </td><td>&lt;IPython.core.display.Markdown object&gt;</td></tr>\\n<tr><td>Marilou </td><td>White   </td><td>Fountainbleu         </td><td>Canada        </td><td>973-514-4638  </td><td>&lt;IPython.core.display.Markdown object&gt;</td></tr>\\n<tr><td>Soren   </td><td>Olivier </td><td>Courbevoie           </td><td>France        </td><td>06-98-00-54-09</td><td>&lt;IPython.core.display.Markdown object&gt;</td></tr>\\n<tr><td>Poppy   </td><td>Chen    </td><td>Wellington           </td><td>New Zealand   </td><td>(754)-660-5384</td><td>&lt;IPython.core.display.Markdown object&gt;</td></tr>\\n<tr><td>Ethel   </td><td>Powell  </td><td>Redding              </td><td>United States </td><td>(479)-376-6973</td><td>&lt;IPython.core.display.Markdown object&gt;</td></tr>\\n</tbody>\\n</table>'"
      ]
     },
     "metadata": {},
     "output_type": "display_data"
    }
   ],
   "source": [
    "table = tabulate.tabulate(data, tablefmt=\"html\")\n",
    "display(table)"
   ]
  },
  {
   "cell_type": "code",
   "execution_count": 68,
   "id": "dac99845",
   "metadata": {},
   "outputs": [
    {
     "name": "stdout",
     "output_type": "stream",
     "text": [
      "Zoe Collins\n"
     ]
    },
    {
     "data": {
      "text/markdown": [
       "<img src=\"https://randomuser.me/api/portraits/women/45.jpg\" alt=\"photo of user Zoe Collins\"/>"
      ],
      "text/plain": [
       "<IPython.core.display.Markdown object>"
      ]
     },
     "metadata": {},
     "output_type": "display_data"
    },
    {
     "data": {
      "text/markdown": [
       "---"
      ],
      "text/plain": [
       "<IPython.core.display.Markdown object>"
      ]
     },
     "metadata": {},
     "output_type": "display_data"
    },
    {
     "name": "stdout",
     "output_type": "stream",
     "text": [
      "Jayden Miller\n"
     ]
    },
    {
     "data": {
      "text/markdown": [
       "<img src=\"https://randomuser.me/api/portraits/men/76.jpg\" alt=\"photo of user Jayden Miller\"/>"
      ],
      "text/plain": [
       "<IPython.core.display.Markdown object>"
      ]
     },
     "metadata": {},
     "output_type": "display_data"
    },
    {
     "data": {
      "text/markdown": [
       "---"
      ],
      "text/plain": [
       "<IPython.core.display.Markdown object>"
      ]
     },
     "metadata": {},
     "output_type": "display_data"
    },
    {
     "name": "stdout",
     "output_type": "stream",
     "text": [
      "Cidalino Pires\n"
     ]
    },
    {
     "data": {
      "text/markdown": [
       "<img src=\"https://randomuser.me/api/portraits/men/64.jpg\" alt=\"photo of user Cidalino Pires\"/>"
      ],
      "text/plain": [
       "<IPython.core.display.Markdown object>"
      ]
     },
     "metadata": {},
     "output_type": "display_data"
    },
    {
     "data": {
      "text/markdown": [
       "---"
      ],
      "text/plain": [
       "<IPython.core.display.Markdown object>"
      ]
     },
     "metadata": {},
     "output_type": "display_data"
    },
    {
     "name": "stdout",
     "output_type": "stream",
     "text": [
      "Elsa Savela\n"
     ]
    },
    {
     "data": {
      "text/markdown": [
       "<img src=\"https://randomuser.me/api/portraits/women/95.jpg\" alt=\"photo of user Elsa Savela\"/>"
      ],
      "text/plain": [
       "<IPython.core.display.Markdown object>"
      ]
     },
     "metadata": {},
     "output_type": "display_data"
    },
    {
     "data": {
      "text/markdown": [
       "---"
      ],
      "text/plain": [
       "<IPython.core.display.Markdown object>"
      ]
     },
     "metadata": {},
     "output_type": "display_data"
    },
    {
     "name": "stdout",
     "output_type": "stream",
     "text": [
      "Birger Michl\n"
     ]
    },
    {
     "data": {
      "text/markdown": [
       "<img src=\"https://randomuser.me/api/portraits/men/49.jpg\" alt=\"photo of user Birger Michl\"/>"
      ],
      "text/plain": [
       "<IPython.core.display.Markdown object>"
      ]
     },
     "metadata": {},
     "output_type": "display_data"
    },
    {
     "data": {
      "text/markdown": [
       "---"
      ],
      "text/plain": [
       "<IPython.core.display.Markdown object>"
      ]
     },
     "metadata": {},
     "output_type": "display_data"
    },
    {
     "name": "stdout",
     "output_type": "stream",
     "text": [
      "Emily Petersen\n"
     ]
    },
    {
     "data": {
      "text/markdown": [
       "<img src=\"https://randomuser.me/api/portraits/women/47.jpg\" alt=\"photo of user Emily Petersen\"/>"
      ],
      "text/plain": [
       "<IPython.core.display.Markdown object>"
      ]
     },
     "metadata": {},
     "output_type": "display_data"
    },
    {
     "data": {
      "text/markdown": [
       "---"
      ],
      "text/plain": [
       "<IPython.core.display.Markdown object>"
      ]
     },
     "metadata": {},
     "output_type": "display_data"
    },
    {
     "name": "stdout",
     "output_type": "stream",
     "text": [
      "Marilou White\n"
     ]
    },
    {
     "data": {
      "text/markdown": [
       "<img src=\"https://randomuser.me/api/portraits/women/81.jpg\" alt=\"photo of user Marilou White\"/>"
      ],
      "text/plain": [
       "<IPython.core.display.Markdown object>"
      ]
     },
     "metadata": {},
     "output_type": "display_data"
    },
    {
     "data": {
      "text/markdown": [
       "---"
      ],
      "text/plain": [
       "<IPython.core.display.Markdown object>"
      ]
     },
     "metadata": {},
     "output_type": "display_data"
    },
    {
     "name": "stdout",
     "output_type": "stream",
     "text": [
      "Soren Olivier\n"
     ]
    },
    {
     "data": {
      "text/markdown": [
       "<img src=\"https://randomuser.me/api/portraits/men/25.jpg\" alt=\"photo of user Soren Olivier\"/>"
      ],
      "text/plain": [
       "<IPython.core.display.Markdown object>"
      ]
     },
     "metadata": {},
     "output_type": "display_data"
    },
    {
     "data": {
      "text/markdown": [
       "---"
      ],
      "text/plain": [
       "<IPython.core.display.Markdown object>"
      ]
     },
     "metadata": {},
     "output_type": "display_data"
    },
    {
     "name": "stdout",
     "output_type": "stream",
     "text": [
      "Poppy Chen\n"
     ]
    },
    {
     "data": {
      "text/markdown": [
       "<img src=\"https://randomuser.me/api/portraits/women/69.jpg\" alt=\"photo of user Poppy Chen\"/>"
      ],
      "text/plain": [
       "<IPython.core.display.Markdown object>"
      ]
     },
     "metadata": {},
     "output_type": "display_data"
    },
    {
     "data": {
      "text/markdown": [
       "---"
      ],
      "text/plain": [
       "<IPython.core.display.Markdown object>"
      ]
     },
     "metadata": {},
     "output_type": "display_data"
    },
    {
     "name": "stdout",
     "output_type": "stream",
     "text": [
      "Ethel Powell\n"
     ]
    },
    {
     "data": {
      "text/markdown": [
       "<img src=\"https://randomuser.me/api/portraits/women/41.jpg\" alt=\"photo of user Ethel Powell\"/>"
      ],
      "text/plain": [
       "<IPython.core.display.Markdown object>"
      ]
     },
     "metadata": {},
     "output_type": "display_data"
    },
    {
     "data": {
      "text/markdown": [
       "---"
      ],
      "text/plain": [
       "<IPython.core.display.Markdown object>"
      ]
     },
     "metadata": {},
     "output_type": "display_data"
    }
   ],
   "source": [
    "# Loop over the users\n",
    "for user in df.iterrows():\n",
    "    # Print the user's full name.\n",
    "    print(user[1][\"First Name\"], user[1][\"Last Name\"])\n",
    "    \n",
    "    # Display whether or not their first and last name are valid identifiers.\n",
    "    if not user[1][\"First Name\"].isidentifier():\n",
    "        print(\"First name is not a valid Python identifier.\")\n",
    "    if not user[1][\"Last Name\"].isidentifier():\n",
    "        print(\"Last name is not a valid Python identifier.\")\n",
    "        \n",
    "    # Display their profile photo.\n",
    "    display(user[1][\"IMG\"])\n",
    "    #img = Image(url=user.get_picture(), width=100, height=100)\n",
    "    #display(img)\n",
    "    display(Markdown('---'))\n"
   ]
  },
  {
   "cell_type": "code",
   "execution_count": null,
   "id": "64f82a9c",
   "metadata": {},
   "outputs": [],
   "source": []
  }
 ],
 "metadata": {
  "kernelspec": {
   "display_name": "Python 3 (ipykernel)",
   "language": "python",
   "name": "python3"
  },
  "language_info": {
   "codemirror_mode": {
    "name": "ipython",
    "version": 3
   },
   "file_extension": ".py",
   "mimetype": "text/x-python",
   "name": "python",
   "nbconvert_exporter": "python",
   "pygments_lexer": "ipython3",
   "version": "3.9.13"
  }
 },
 "nbformat": 4,
 "nbformat_minor": 5
}
