{
 "cells": [
  {
   "cell_type": "code",
   "execution_count": 55,
   "id": "1e7a1a6f",
   "metadata": {},
   "outputs": [],
   "source": [
    "import os\n",
    "import re\n",
    "from ipywidgets import Checkbox, Text, VBox, HBox, Layout, Output"
   ]
  },
  {
   "cell_type": "code",
   "execution_count": null,
   "id": "14acf41d",
   "metadata": {},
   "outputs": [],
   "source": []
  },
  {
   "cell_type": "code",
   "execution_count": 2,
   "id": "8ad9c65e",
   "metadata": {},
   "outputs": [],
   "source": [
    "dir_path = None\n",
    "\n",
    "def get_path():\n",
    "    import tkinter as tk\n",
    "    from tkinter import filedialog\n",
    "    global dir_path\n",
    "    if dir_path == None:\n",
    "        tk.Tk().withdraw()\n",
    "        dir_path = filedialog.askdirectory()\n",
    "    return dir_path\n",
    "\n",
    "def find_mod_name(path):\n",
    "    if path.isspace() or not os.path.isdir(path):\n",
    "        raise Exception(\"Not Found\")\n",
    "        \n",
    "    tail,head = os.path.split(path)\n",
    "    if head=='mods': return 'mods'\n",
    "    \n",
    "    parent = find_mod_name(tail)\n",
    "    #print('\\t\\tParent returned: ', parent)\n",
    "    if parent == 'mods': return head\n",
    "    else: return parent\n",
    "\n",
    "def clean(s): return re.sub('\\W|^(?=\\d)','_', s).lower()\n",
    "\n",
    "def neat_trim(s, ideal_length, max_length):\n",
    "    # Shortcut for strings that are split by an emdash.\n",
    "    clauses = re.split(' - |[(:]', s)\n",
    "    if len(clauses[0]) > max_length/2 and len(clauses[0]) < max_length: return clauses[0]\n",
    "    \n",
    "    # If the string is short enough, return it unmodified.\n",
    "    if len(s) < max_length: return s\n",
    "    \n",
    "    # Split the string at the ideal length.\n",
    "    front = s[:ideal_length]\n",
    "    back = s[ideal_length:]\n",
    "    \n",
    "    # If there's nothing in the back half, return the front.\n",
    "    # This should never happen!\n",
    "    if back == None or back.isspace(): return front\n",
    "    \n",
    "    # Split the string into words.\n",
    "    words = back.split(' ')\n",
    "    \n",
    "    # The length of the word that can be added to the end without exceeding max_length.\n",
    "    grace = max_length - ideal_length - 1\n",
    "        \n",
    "    #print('Front = \"' + front + '\", words = ' + str(words))\n",
    "    \n",
    "    # If the split didn't produce anything, return the front.\n",
    "    # This should never happen!\n",
    "    if words == None or len(words) == 0: return front\n",
    "\n",
    "    # If the first word is too long, return the front with an ellipsis ...\n",
    "    elif len(words[0]) > grace: return front + '\\u2026'\n",
    "    \n",
    "    # Everything is fine so return the front with the first appended.\n",
    "    else: return f'{front}{words[0]}'\n"
   ]
  },
  {
   "cell_type": "code",
   "execution_count": 7,
   "id": "c887b101",
   "metadata": {},
   "outputs": [],
   "source": [
    "mods = generate_list()"
   ]
  },
  {
   "cell_type": "code",
   "execution_count": 105,
   "id": "aea99d07",
   "metadata": {},
   "outputs": [],
   "source": [
    "def generate_list():\n",
    "    import glob\n",
    "    mods = {}\n",
    "    \n",
    "    for root, d_names, f_names in os.walk(get_path()):   \n",
    "        path = os.path.split(root)\n",
    "        directory_name = path[-1] \n",
    "\n",
    "        if directory_name.lower() == 'slidersets':\n",
    "            mod_name = 'invalid'        \n",
    "            try:\n",
    "                mod_name = find_mod_name(root).lower()\n",
    "            except Exception as ex:\n",
    "                print(path, ex)\n",
    "                continue\n",
    "\n",
    "            #print(mod_name)\n",
    "            #print('\\t' + root)\n",
    "            #print('\\t' + str(f_names))\n",
    "    \n",
    "            mods[mod_name] = []\n",
    "        \n",
    "            slider_set_glob = os.path.join(root, '*.osp')\n",
    "            #for slider_set in glob.glob(slider_set_glob, recursive=True):\n",
    "                #print('\\t\\t' + slider_set)\n",
    "                #slider_set = d_name\n",
    "                #condition_filename = os.path.join(group_path, '_conditions.txt')\n",
    "                \n",
    "    return mods\n",
    "\n",
    "def generate_checklist(mods):\n",
    "    out = Output()\n",
    "    checkboxes = [Checkbox(value=False, description = mod, layout=Layout(width='100%')) for mod in mods.keys()]                  \n",
    "    checkboxes_box = VBox(checkboxes, layout=Layout(width='45%'))\n",
    "    checkedboxes_box = VBox(layout=Layout(width='45%'))\n",
    "\n",
    "    @out.capture()\n",
    "    def checkbox_disabler(b):\n",
    "        cb = b.owner\n",
    "        if cb.value:\n",
    "            if cb in checkboxes_box.children: checkboxes_box.children = tuple(x for x in checkboxes_box.children if x != cb)\n",
    "            if cb not in checkedboxes_box.children: checkedboxes_box.children = checkedboxes_box.children + (cb,)\n",
    "        else:\n",
    "            if cb in checkedboxes_box.children: checkedboxes_box.children = tuple(x for x in checkedboxes_box.children if x != cb)\n",
    "            if cb not in checkboxes_box.children: checkboxes_box.children = checkboxes_box.children + (cb,)\n",
    "\n",
    "    for cb in checkboxes: cb.observe(checkbox_disabler)\n",
    "    \n",
    "    display(HBox([checkboxes_box, checkedboxes_box], layout=Layout(width='90%')))\n",
    "    "
   ]
  },
  {
   "cell_type": "code",
   "execution_count": 106,
   "id": "5e235ad2",
   "metadata": {},
   "outputs": [
    {
     "data": {
      "application/vnd.jupyter.widget-view+json": {
       "model_id": "a6e6aeed5a0a4fcd8c09bb0047c44be2",
       "version_major": 2,
       "version_minor": 0
      },
      "text/plain": [
       "HBox(children=(VBox(children=(Checkbox(value=False, description='almost naked blacksmith apron 3ba', layout=La…"
      ]
     },
     "metadata": {},
     "output_type": "display_data"
    }
   ],
   "source": [
    "generate_checklist(mods)"
   ]
  },
  {
   "cell_type": "code",
   "execution_count": null,
   "id": "45af1eb9",
   "metadata": {},
   "outputs": [],
   "source": []
  }
 ],
 "metadata": {
  "kernelspec": {
   "display_name": "Python 3 (ipykernel)",
   "language": "python",
   "name": "python3"
  },
  "language_info": {
   "codemirror_mode": {
    "name": "ipython",
    "version": 3
   },
   "file_extension": ".py",
   "mimetype": "text/x-python",
   "name": "python",
   "nbconvert_exporter": "python",
   "pygments_lexer": "ipython3",
   "version": "3.9.13"
  },
  "vscode": {
   "interpreter": {
    "hash": "c261aea317cc0286b3b3261fbba9abdec21eaa57589985bb7a274bf54d6cc0a7"
   }
  }
 },
 "nbformat": 4,
 "nbformat_minor": 5
}
