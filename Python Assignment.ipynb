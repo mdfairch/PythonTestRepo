{
 "cells": [
  {
   "cell_type": "code",
   "execution_count": 22,
   "id": "4e2e745f",
   "metadata": {},
   "outputs": [
    {
     "name": "stdout",
     "output_type": "stream",
     "text": [
      "3.9.13 (main, Aug 25 2022, 23:51:50) [MSC v.1916 64 bit (AMD64)]\n"
     ]
    }
   ],
   "source": [
    "#Write a Python code to return your Python version\n",
    "import sys\n",
    "print(sys.version)"
   ]
  },
  {
   "cell_type": "code",
   "execution_count": 31,
   "id": "0af19f43",
   "metadata": {},
   "outputs": [
    {
     "name": "stdout",
     "output_type": "stream",
     "text": [
      "customer id =513\n",
      "customer id = 513\n",
      "customer id =513\n"
     ]
    }
   ],
   "source": [
    "#Write a Python code to declare variable id=\"513\".\n",
    "id = \"513\"\n",
    "\n",
    "#Print the following statement \"customer id =513\". [Don't use print(\"customer id\n",
    "print(\"customer id =%s\" % id)\n",
    "print(\"customer id =\", id)\n",
    "print(\"customer id =\" + id)"
   ]
  },
  {
   "cell_type": "code",
   "execution_count": 33,
   "id": "76b869fd",
   "metadata": {},
   "outputs": [
    {
     "name": "stdout",
     "output_type": "stream",
     "text": [
      "can only concatenate str (not \"int\") to str\n"
     ]
    }
   ],
   "source": [
    "#Run the following statement, why there is an error\n",
    "try:\n",
    "    id=id+1\n",
    "except TypeError as ex:\n",
    "    print(ex)\n"
   ]
  },
  {
   "cell_type": "code",
   "execution_count": 34,
   "id": "ab890f2e",
   "metadata": {},
   "outputs": [
    {
     "name": "stdout",
     "output_type": "stream",
     "text": [
      "customer id =514\n",
      "customer id = 514\n",
      "customer id =514\n"
     ]
    }
   ],
   "source": [
    "#Convert the variable id into an integer, increment it by 1.\n",
    "#Assign the result to variable new_id.\n",
    "#Print the new_id\n",
    "new_id = int(id) + 1\n",
    "print(\"customer id =%d\" % new_id)\n",
    "print(\"customer id =\", new_id)\n",
    "print(\"customer id =\" + str(new_id))\n"
   ]
  },
  {
   "cell_type": "code",
   "execution_count": 50,
   "id": "433abcda",
   "metadata": {},
   "outputs": [
    {
     "name": "stdout",
     "output_type": "stream",
     "text": [
      "Twinkle, twinkle, little star,\n",
      "    How I wonder what you are!\n",
      "        Up above the world so high,\n",
      "            Like a diamond in the sky.\n",
      "Twinkle, twinkle, little star,\n",
      "\tHow I wonder what you are!\n",
      "\t\tUp above the world so high,\n",
      "\t\t\tLike a diamond in the sky.\n"
     ]
    }
   ],
   "source": [
    "#Write a Python code to print the following string in a specific format (see the\n",
    "fmtStr1 = \"\"\"Twinkle, twinkle, little star,\n",
    "    How I wonder what you are!\n",
    "        Up above the world so high,\n",
    "            Like a diamond in the sky.\"\"\"\n",
    "\n",
    "fmtStr2 = \"Twinkle, twinkle, little star,\\n\\tHow I wonder what you are!\\n\\t\\tUp above the world so high,\\n\\t\\t\\tLike a diamond in the sky.\"\n",
    "print(fmtStr1)\n",
    "print(fmtStr2)\n"
   ]
  },
  {
   "cell_type": "code",
   "execution_count": 44,
   "id": "724d921d",
   "metadata": {},
   "outputs": [
    {
     "name": "stdout",
     "output_type": "stream",
     "text": [
      "P\n",
      "t\n",
      "23\n",
      "e\n",
      "Data\n",
      "Ph ra i\n"
     ]
    }
   ],
   "source": [
    "#Givin the following string variable, # Print the first element in the string\n",
    "course=\"Python for Data Science\"\n",
    "print(course[0])\n",
    "\n",
    "# Print the element on the 13th index in the string\n",
    "print(course[13])\n",
    "\n",
    "# Find the length of string\n",
    "print(len(course))\n",
    "\n",
    "# Print the last element in the string [use negative index]\n",
    "print(course[-1])\n",
    "\n",
    "# Take the slice on variable course with only index 11 to index 14\n",
    "print(course[11:15])\n",
    "\n",
    "# Get every third element in the range from index 0 to index 20\n",
    "print(course[0:21:3])\n"
   ]
  },
  {
   "cell_type": "code",
   "execution_count": 45,
   "id": "13fedf74",
   "metadata": {},
   "outputs": [
    {
     "name": "stdout",
     "output_type": "stream",
     "text": [
      "Python for Data Science\n",
      "Python for Data Science, AI & Development\n",
      "Python_for_Data_Science,_AI_&_Development\n",
      "PYTHON_FOR_DATA_SCIENCE,_AI_&_DEVELOPMENT\n"
     ]
    }
   ],
   "source": [
    "# Concatenate course string with \", AI & Development\"\n",
    "print(course)\n",
    "course = course + \", AI & Development\"\n",
    "print(course)\n",
    "\n",
    "# Replace all the spaces with (_). New string should looks like\"Python_for_Data_S\n",
    "course = course.replace(\" \", \"_\")\n",
    "print(course)\n",
    "\n",
    "# Convert all the characters in string to upper case\n",
    "course = course.upper()\n",
    "print(course)\n"
   ]
  }
 ],
 "metadata": {
  "kernelspec": {
   "display_name": "Python 3 (ipykernel)",
   "language": "python",
   "name": "python3"
  },
  "language_info": {
   "codemirror_mode": {
    "name": "ipython",
    "version": 3
   },
   "file_extension": ".py",
   "mimetype": "text/x-python",
   "name": "python",
   "nbconvert_exporter": "python",
   "pygments_lexer": "ipython3",
   "version": "3.9.13"
  }
 },
 "nbformat": 4,
 "nbformat_minor": 5
}
