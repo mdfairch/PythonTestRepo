{
 "cells": [
  {
   "cell_type": "code",
   "execution_count": null,
   "id": "5e2e63b2",
   "metadata": {},
   "outputs": [],
   "source": [
    "import seaborn as sns\n",
    "import pandas as pd"
   ]
  },
  {
   "cell_type": "code",
   "execution_count": 47,
   "id": "71393ba0",
   "metadata": {},
   "outputs": [
    {
     "data": {
      "text/html": [
       "<div>\n",
       "<style scoped>\n",
       "    .dataframe tbody tr th:only-of-type {\n",
       "        vertical-align: middle;\n",
       "    }\n",
       "\n",
       "    .dataframe tbody tr th {\n",
       "        vertical-align: top;\n",
       "    }\n",
       "\n",
       "    .dataframe thead th {\n",
       "        text-align: right;\n",
       "    }\n",
       "</style>\n",
       "<table border=\"1\" class=\"dataframe\">\n",
       "  <thead>\n",
       "    <tr style=\"text-align: right;\">\n",
       "      <th></th>\n",
       "      <th>Product</th>\n",
       "      <th>Tonnes per Year</th>\n",
       "    </tr>\n",
       "  </thead>\n",
       "  <tbody>\n",
       "    <tr>\n",
       "      <th>0</th>\n",
       "      <td>Concrete</td>\n",
       "      <td>4400.000000</td>\n",
       "    </tr>\n",
       "    <tr>\n",
       "      <th>1</th>\n",
       "      <td>Oil</td>\n",
       "      <td>3824.448275</td>\n",
       "    </tr>\n",
       "    <tr>\n",
       "      <th>2</th>\n",
       "      <td>Steel</td>\n",
       "      <td>1951.900000</td>\n",
       "    </tr>\n",
       "    <tr>\n",
       "      <th>3</th>\n",
       "      <td>Corn</td>\n",
       "      <td>1161.860000</td>\n",
       "    </tr>\n",
       "    <tr>\n",
       "      <th>4</th>\n",
       "      <td>Rice</td>\n",
       "      <td>755.500000</td>\n",
       "    </tr>\n",
       "    <tr>\n",
       "      <th>5</th>\n",
       "      <td>Wheat</td>\n",
       "      <td>760.000000</td>\n",
       "    </tr>\n",
       "    <tr>\n",
       "      <th>6</th>\n",
       "      <td>Cotton</td>\n",
       "      <td>25.000000</td>\n",
       "    </tr>\n",
       "  </tbody>\n",
       "</table>\n",
       "</div>"
      ],
      "text/plain": [
       "    Product  Tonnes per Year\n",
       "0  Concrete      4400.000000\n",
       "1       Oil      3824.448275\n",
       "2     Steel      1951.900000\n",
       "3      Corn      1161.860000\n",
       "4      Rice       755.500000\n",
       "5     Wheat       760.000000\n",
       "6    Cotton        25.000000"
      ]
     },
     "execution_count": 47,
     "metadata": {},
     "output_type": "execute_result"
    }
   ],
   "source": [
    "kg_per_barrel = 136\n",
    "\n",
    "data = {\n",
    "    'Concrete' : int(4.4 * 1e9),\n",
    "    'Oil' : int(77_043_680 * 365 * kg_per_barrel / 1000), \n",
    "    'Steel' : int(1_951.9 * 1e6),\n",
    "    'Corn' : int(1161.86 * 1e6),\n",
    "    'Rice' : int(755.5 * 1e6), \n",
    "    'Wheat' : int(760 * 1e6),\n",
    "    'Cotton' : int(25*1e6),\n",
    "}\n",
    "df = pd.DataFrame(data.values(), index=data.keys())\n",
    "df.reset_index(inplace=True)\n",
    "df.set_axis(['Product', 'Tonnes per Year'], axis=1, inplace=True)\n",
    "\n",
    "df['Tonnes per Year'] = df['Tonnes per Year'].div(1e6)\n",
    "#df.index.name = 'Product'\n",
    "df"
   ]
  },
  {
   "cell_type": "code",
   "execution_count": 34,
   "id": "cce51e1e",
   "metadata": {},
   "outputs": [],
   "source": []
  },
  {
   "cell_type": "code",
   "execution_count": 49,
   "id": "2949dadb",
   "metadata": {},
   "outputs": [
    {
     "data": {
      "text/plain": [
       "[Text(0, 0.5, 'Tonnes per Year (millions)'), Text(0.5, 0, 'Global Product')]"
      ]
     },
     "execution_count": 49,
     "metadata": {},
     "output_type": "execute_result"
    },
    {
     "data": {
      "image/png": "[encoded data removed]",
      "text/plain": [
       "<Figure size 640x480 with 1 Axes>"
      ]
     },
     "metadata": {},
     "output_type": "display_data"
    }
   ],
   "source": [
    "ax = sns.barplot(data=df, x='Product', y='Tonnes per Year')\n",
    "ax.set(ylabel='Tonnes per Year (millions)', xlabel='Global Product')"
   ]
  },
  {
   "cell_type": "code",
   "execution_count": null,
   "id": "a503b716",
   "metadata": {},
   "outputs": [],
   "source": []
  }
 ],
 "metadata": {
  "kernelspec": {
   "display_name": "Python 3 (ipykernel)",
   "language": "python",
   "name": "python3"
  },
  "language_info": {
   "codemirror_mode": {
    "name": "ipython",
    "version": 3
   },
   "file_extension": ".py",
   "mimetype": "text/x-python",
   "name": "python",
   "nbconvert_exporter": "python",
   "pygments_lexer": "ipython3",
   "version": "3.9.13"
  }
 },
 "nbformat": 4,
 "nbformat_minor": 5
}
