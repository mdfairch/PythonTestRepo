{
 "cells": [
  {
   "cell_type": "code",
   "execution_count": 11,
   "id": "db176e5d",
   "metadata": {},
   "outputs": [
    {
     "name": "stdout",
     "output_type": "stream",
     "text": [
      "Note: you may need to restart the kernel to use updated packages.\n",
      "Note: you may need to restart the kernel to use updated packages.\n",
      "Note: you may need to restart the kernel to use updated packages.\n"
     ]
    }
   ],
   "source": [
    "%pip -q install pandas\n",
    "%pip -q install dash\n",
    "%pip -q install plotly"
   ]
  },
  {
   "cell_type": "code",
   "execution_count": 15,
   "id": "4dc0f7f5",
   "metadata": {},
   "outputs": [],
   "source": [
    "# Import required packages\n",
    "import pandas as pd\n",
    "import dash\n",
    "import plotly.express as px\n",
    "import plotly.graph_objects as go\n",
    "from dash import dcc\n",
    "from dash import html\n",
    "from dash import no_update\n",
    "from dash.dependencies import Input, Output, State\n",
    "from enum import Enum\n",
    "\n",
    "# Download the airline data into a dataframe.\n",
    "airline_data = pd.read_csv('https://cf-courses-data.s3.us.cloud-object-storage.appdomain.cloud/IBMDeveloperSkillsNetwork-DV0101EN-SkillsNetwork/Data%20Files/airline_data.csv', \n",
    "                            encoding = \"ISO-8859-1\",\n",
    "                            dtype={'Div1Airport': str, 'Div1TailNum': str, \n",
    "                                   'Div2Airport': str, 'Div2TailNum': str})\n",
    "\n"
   ]
  },
  {
   "cell_type": "code",
   "execution_count": null,
   "id": "8ee207f7",
   "metadata": {},
   "outputs": [
    {
     "name": "stdout",
     "output_type": "stream",
     "text": [
      "Dash is running on http://127.0.0.1:8050/\n",
      "\n",
      "Dash is running on http://127.0.0.1:8050/\n",
      "\n",
      "Dash is running on http://127.0.0.1:8050/\n",
      "\n",
      "Dash is running on http://127.0.0.1:8050/\n",
      "\n",
      "Dash is running on http://127.0.0.1:8050/\n",
      "\n",
      " * Serving Flask app \"__main__\" (lazy loading)\n",
      " * Environment: production\n",
      "\u001b[31m   WARNING: This is a development server. Do not use it in a production deployment.\u001b[0m\n",
      "\u001b[2m   Use a production WSGI server instead.\u001b[0m\n",
      " * Debug mode: off\n"
     ]
    },
    {
     "name": "stderr",
     "output_type": "stream",
     "text": [
      " * Running on http://127.0.0.1:8050/ (Press CTRL+C to quit)\n"
     ]
    }
   ],
   "source": [
    "ReportType = [\n",
    "    {'value':'PerformanceReport', 'label':'Yearly Airline Performance Report'},\n",
    "    {'value':'DelayReport', 'label':'Yearly Airline Delay Report'},\n",
    "]\n",
    "\n",
    "Report = [\n",
    "    {'value':'CAR_DELAY', 'label':'Monthly Average Carrier Delay By Airline'},\n",
    "    {'value':'WTH_DELAY', 'label':'Monthly Average Weather Delay By Airline'},\n",
    "    {'value':'NAS_DELAY', 'label':'Monthly Average National Air System Delay By Airline'},\n",
    "    {'value':'SEC_DELAY', 'label':'Monthly Average Security Delay By Airline'},\n",
    "    {'value':'LTA_DELAY', 'label':'Monthly Average Late Aircraft Delay By Airline'}]\n",
    "\n",
    "Years = [{'label':str(x), 'value':str(x)} for x in range(1980,2022)]\n",
    "\n",
    "url = 'https://cf-courses-data.s3.us.cloud-object-storage.appdomain.cloud/IBMDeveloperSkillsNetwork-DA0101EN-SkillsNetwork/labs/Data%20files/automobileEDA.csv'\n",
    "\n",
    "#auto_data =  pd.read_csv('automobileEDA.csv', encoding = \"ISO-8859-1\")\n",
    "auto_data =  pd.read_csv(url, encoding = \"ISO-8859-1\")\n",
    "\n",
    "app = dash.Dash(__name__)\n",
    "app.config.suppress_callback_exceptions = True\n",
    "\n",
    "\n",
    "app.layout = html.Div(children=[\n",
    "    html.H1('TITLE', \n",
    "        style={'textAlign': 'center', 'color': '#503d6', 'font-size': 24}),\n",
    "    \n",
    "    # DIVISION SELECT REPORT-TYPE\n",
    "    html.Div([\n",
    "            # LABEL\n",
    "            html.Div(html.H2('Report Type:', style={'textAlign':'center'})),\n",
    "            # DROPDOWN BOX\n",
    "            html.Div(dcc.Dropdown(id='report-type-dropdown', options=ReportType, value=ReportType[0]['value'])),\n",
    "    ]),\n",
    "\n",
    "    # SECTION: SELECT YEAR\n",
    "    html.Div([\n",
    "            # LABEL\n",
    "            html.Div(html.H2('Choose Year:', style={'textAlign':'center'})),\n",
    "            # DROPDOWN BOX\n",
    "            html.Div(dcc.Dropdown(id='year-dropdown', options=Years, value=Years[-1]['value'])),\n",
    "    ]),\n",
    "\n",
    "    # SECTION: PLOTS\n",
    "    html.Div([\n",
    "            # Inner 2\n",
    "            html.Div([#Task 3D\n",
    "                html.Div([ ], id='plot1'),\n",
    "                html.Div([ ], id='plot2')],\n",
    "                style={'display': 'flex'})\n",
    "    ])\n",
    "])\n",
    "\n",
    "@app.callback(\n",
    "    [\n",
    "        Output(component_id='plot1', component_property='children'),\n",
    "        Output(component_id='plot2', component_property='children'),\n",
    "    ],\n",
    "    [\n",
    "        Input(component_id='report-type-dropdown', component_property='value'),\n",
    "        Input(component_id='year-dropdown', component_property='value'),\n",
    "    ],\n",
    ")\n",
    "\n",
    "def display_selected_drive_charts(report_type, year):\n",
    "    filtered_df = auto_data[auto_data['drive-wheels']==value] \\\n",
    "        .groupby(['drive-wheels', 'body-style'], as_index=False) \\\n",
    "        .mean()\n",
    "\n",
    "    filtered_df = filtered_df\n",
    "    fig1 = px.pie(filtered_df, values='price', names='body-style', title='Pie Chart')\n",
    "    fig2 = px.bar(filtered_df, x='body-style', y='price', title='Bar Chart')\n",
    "    return [dcc.Graph(figure=fig1), dcc.Graph(figure=fig2)]\n",
    "\n",
    "\n",
    "# Run Application\n",
    "if __name__ == '__main__':\n",
    "    app.run_server()\n"
   ]
  },
  {
   "cell_type": "code",
   "execution_count": null,
   "id": "dc72bcb7",
   "metadata": {},
   "outputs": [],
   "source": []
  }
 ],
 "metadata": {
  "kernelspec": {
   "display_name": "Python 3 (ipykernel)",
   "language": "python",
   "name": "python3"
  },
  "language_info": {
   "codemirror_mode": {
    "name": "ipython",
    "version": 3
   },
   "file_extension": ".py",
   "mimetype": "text/x-python",
   "name": "python",
   "nbconvert_exporter": "python",
   "pygments_lexer": "ipython3",
   "version": "3.9.13"
  }
 },
 "nbformat": 4,
 "nbformat_minor": 5
}
